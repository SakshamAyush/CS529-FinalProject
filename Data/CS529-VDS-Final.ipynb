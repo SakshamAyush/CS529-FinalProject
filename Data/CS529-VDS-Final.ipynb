{
 "cells": [
  {
   "cell_type": "code",
   "execution_count": 119,
   "id": "2ae93e35",
   "metadata": {},
   "outputs": [],
   "source": [
    "import pandas as pd\n",
    "#import geopy\n",
    "import numpy as np\n",
    "#import matplotlib.pyplot as plt\n",
    "import datetime\n",
    "from datetime import datetime\n",
    "#import geopandas as gpd\n",
    "#from shapely.geometry import Point\n",
    "#import seaborn as sns"
   ]
  },
  {
   "cell_type": "code",
   "execution_count": 120,
   "id": "2d9d1b83",
   "metadata": {},
   "outputs": [
    {
     "name": "stderr",
     "output_type": "stream",
     "text": [
      "/var/folders/83/89yy6_vx7ds1g1hkvv0r0sv00000gn/T/ipykernel_4078/2186809533.py:1: DtypeWarning: Columns (2,33,34,35,36,37,38,42,43,45,46,47,48,49,50,51,52,53,55,56,57,58,59,60,61,62,63,64,65,66,68,69,70,71,73,76,77,79,84,85,342,344,345,350,352,353,354,355,356,357,358,359,360,361,362,363,364,365,366,367,368,372,373,374,377,379,380,381,382,383,384,385,386,387) have mixed types. Specify dtype option on import or set low_memory=False.\n",
      "  df = pd.read_csv('PY19annual_public_exiter.csv')\n"
     ]
    }
   ],
   "source": [
    "df = pd.read_csv('PY19annual_public_exiter.csv')"
   ]
  },
  {
   "cell_type": "code",
   "execution_count": 121,
   "id": "c9a81228",
   "metadata": {},
   "outputs": [
    {
     "data": {
      "text/html": [
       "<div>\n",
       "<style scoped>\n",
       "    .dataframe tbody tr th:only-of-type {\n",
       "        vertical-align: middle;\n",
       "    }\n",
       "\n",
       "    .dataframe tbody tr th {\n",
       "        vertical-align: top;\n",
       "    }\n",
       "\n",
       "    .dataframe thead th {\n",
       "        text-align: right;\n",
       "    }\n",
       "</style>\n",
       "<table border=\"1\" class=\"dataframe\">\n",
       "  <thead>\n",
       "    <tr style=\"text-align: right;\">\n",
       "      <th></th>\n",
       "      <th>ProgramYear</th>\n",
       "      <th>AgencyCode</th>\n",
       "      <th>ApplicationDate</th>\n",
       "      <th>Sex</th>\n",
       "      <th>AmerIndian</th>\n",
       "      <th>Asian</th>\n",
       "      <th>Black</th>\n",
       "      <th>Hawaiian</th>\n",
       "      <th>White</th>\n",
       "      <th>Hispanic</th>\n",
       "      <th>...</th>\n",
       "      <th>q4aeEmpStatus</th>\n",
       "      <th>q4aeEmpMatchType</th>\n",
       "      <th>q4aeWages</th>\n",
       "      <th>q4aeRetentionQ2AndQ4</th>\n",
       "      <th>appOtherSupport</th>\n",
       "      <th>age_app</th>\n",
       "      <th>age_IPE</th>\n",
       "      <th>age_startPreETS</th>\n",
       "      <th>age_startVRservice</th>\n",
       "      <th>age_exit</th>\n",
       "    </tr>\n",
       "  </thead>\n",
       "  <tbody>\n",
       "    <tr>\n",
       "      <th>0</th>\n",
       "      <td>2019</td>\n",
       "      <td>1</td>\n",
       "      <td>20171206</td>\n",
       "      <td>2</td>\n",
       "      <td>0</td>\n",
       "      <td>0</td>\n",
       "      <td>1</td>\n",
       "      <td>0</td>\n",
       "      <td>0</td>\n",
       "      <td>0</td>\n",
       "      <td>...</td>\n",
       "      <td></td>\n",
       "      <td></td>\n",
       "      <td></td>\n",
       "      <td>0</td>\n",
       "      <td>0</td>\n",
       "      <td>55</td>\n",
       "      <td>56</td>\n",
       "      <td></td>\n",
       "      <td>56</td>\n",
       "      <td>57</td>\n",
       "    </tr>\n",
       "    <tr>\n",
       "      <th>1</th>\n",
       "      <td>2019</td>\n",
       "      <td>1</td>\n",
       "      <td>20190819</td>\n",
       "      <td>2</td>\n",
       "      <td>0</td>\n",
       "      <td>0</td>\n",
       "      <td>0</td>\n",
       "      <td>0</td>\n",
       "      <td>1</td>\n",
       "      <td>0</td>\n",
       "      <td>...</td>\n",
       "      <td></td>\n",
       "      <td></td>\n",
       "      <td></td>\n",
       "      <td>0</td>\n",
       "      <td>0</td>\n",
       "      <td>49</td>\n",
       "      <td>49</td>\n",
       "      <td></td>\n",
       "      <td>49</td>\n",
       "      <td>50</td>\n",
       "    </tr>\n",
       "    <tr>\n",
       "      <th>2</th>\n",
       "      <td>2019</td>\n",
       "      <td>1</td>\n",
       "      <td>20180522</td>\n",
       "      <td>1</td>\n",
       "      <td>0</td>\n",
       "      <td>0</td>\n",
       "      <td>1</td>\n",
       "      <td>0</td>\n",
       "      <td>0</td>\n",
       "      <td>0</td>\n",
       "      <td>...</td>\n",
       "      <td></td>\n",
       "      <td></td>\n",
       "      <td></td>\n",
       "      <td>0</td>\n",
       "      <td>0</td>\n",
       "      <td>45</td>\n",
       "      <td>46</td>\n",
       "      <td></td>\n",
       "      <td>46</td>\n",
       "      <td>46</td>\n",
       "    </tr>\n",
       "    <tr>\n",
       "      <th>3</th>\n",
       "      <td>2019</td>\n",
       "      <td>1</td>\n",
       "      <td>20200107</td>\n",
       "      <td>1</td>\n",
       "      <td>0</td>\n",
       "      <td>0</td>\n",
       "      <td>1</td>\n",
       "      <td>0</td>\n",
       "      <td>0</td>\n",
       "      <td>0</td>\n",
       "      <td>...</td>\n",
       "      <td></td>\n",
       "      <td></td>\n",
       "      <td></td>\n",
       "      <td></td>\n",
       "      <td>0</td>\n",
       "      <td>42</td>\n",
       "      <td></td>\n",
       "      <td></td>\n",
       "      <td></td>\n",
       "      <td>42</td>\n",
       "    </tr>\n",
       "    <tr>\n",
       "      <th>4</th>\n",
       "      <td>2019</td>\n",
       "      <td>1</td>\n",
       "      <td>20170906</td>\n",
       "      <td>2</td>\n",
       "      <td>0</td>\n",
       "      <td>0</td>\n",
       "      <td>1</td>\n",
       "      <td>0</td>\n",
       "      <td>0</td>\n",
       "      <td>0</td>\n",
       "      <td>...</td>\n",
       "      <td></td>\n",
       "      <td></td>\n",
       "      <td></td>\n",
       "      <td>0</td>\n",
       "      <td>0</td>\n",
       "      <td>40</td>\n",
       "      <td>42</td>\n",
       "      <td></td>\n",
       "      <td>40</td>\n",
       "      <td>42</td>\n",
       "    </tr>\n",
       "  </tbody>\n",
       "</table>\n",
       "<p>5 rows × 392 columns</p>\n",
       "</div>"
      ],
      "text/plain": [
       "   ProgramYear  AgencyCode ApplicationDate  Sex  AmerIndian  Asian  Black  \\\n",
       "0         2019           1        20171206    2           0      0      1   \n",
       "1         2019           1        20190819    2           0      0      0   \n",
       "2         2019           1        20180522    1           0      0      1   \n",
       "3         2019           1        20200107    1           0      0      1   \n",
       "4         2019           1        20170906    2           0      0      1   \n",
       "\n",
       "   Hawaiian  White  Hispanic  ...  q4aeEmpStatus  q4aeEmpMatchType  q4aeWages  \\\n",
       "0         0      0         0  ...                                               \n",
       "1         0      1         0  ...                                               \n",
       "2         0      0         0  ...                                               \n",
       "3         0      0         0  ...                                               \n",
       "4         0      0         0  ...                                               \n",
       "\n",
       "   q4aeRetentionQ2AndQ4  appOtherSupport  age_app  age_IPE  age_startPreETS  \\\n",
       "0                     0                0       55       56                    \n",
       "1                     0                0       49       49                    \n",
       "2                     0                0       45       46                    \n",
       "3                                      0       42                             \n",
       "4                     0                0       40       42                    \n",
       "\n",
       "   age_startVRservice  age_exit  \n",
       "0                  56        57  \n",
       "1                  49        50  \n",
       "2                  46        46  \n",
       "3                            42  \n",
       "4                  40        42  \n",
       "\n",
       "[5 rows x 392 columns]"
      ]
     },
     "execution_count": 121,
     "metadata": {},
     "output_type": "execute_result"
    }
   ],
   "source": [
    "df.head()"
   ]
  },
  {
   "cell_type": "code",
   "execution_count": 122,
   "id": "7ac6c4d1",
   "metadata": {},
   "outputs": [
    {
     "data": {
      "text/plain": [
       "(484640, 392)"
      ]
     },
     "execution_count": 122,
     "metadata": {},
     "output_type": "execute_result"
    }
   ],
   "source": [
    "df.shape"
   ]
  },
  {
   "cell_type": "code",
   "execution_count": 123,
   "id": "6d5e5000",
   "metadata": {},
   "outputs": [],
   "source": [
    "df1 = df[['AgencyCode','ApplicationDate','Sex','AmerIndian','Asian','Black','Hawaiian','White','Hispanic','Veteran','Student'\n",
    "         ,'appSSDI','appSSI','appMedicaid','appMedicare','Disability','PrimDisability','TWEStartDate','TWEEndDate'\n",
    "         ,'IPEAmendedDate','ipeEmpStatus','ipeHourlyWage','ipeWeeklyHoursWorked','Adult','VocRehab','EmpOutcome','eoHourlyWage'\n",
    "         ,'exitDate','exitType','exitReason','exitEmpOutcome']].copy()"
   ]
  },
  {
   "cell_type": "code",
   "execution_count": 124,
   "id": "92d2eb99-e78f-4701-8424-83d57317748e",
   "metadata": {},
   "outputs": [
    {
     "data": {
      "text/plain": [
       "AgencyCode               int64\n",
       "ApplicationDate         object\n",
       "Sex                      int64\n",
       "AmerIndian               int64\n",
       "Asian                    int64\n",
       "Black                    int64\n",
       "Hawaiian                 int64\n",
       "White                    int64\n",
       "Hispanic                 int64\n",
       "Veteran                  int64\n",
       "Student                  int64\n",
       "appSSDI                  int64\n",
       "appSSI                   int64\n",
       "appMedicaid              int64\n",
       "appMedicare              int64\n",
       "Disability              object\n",
       "PrimDisability          object\n",
       "TWEStartDate            object\n",
       "TWEEndDate              object\n",
       "IPEAmendedDate          object\n",
       "ipeEmpStatus            object\n",
       "ipeHourlyWage           object\n",
       "ipeWeeklyHoursWorked    object\n",
       "Adult                   object\n",
       "VocRehab                object\n",
       "EmpOutcome              object\n",
       "eoHourlyWage            object\n",
       "exitDate                 int64\n",
       "exitType                 int64\n",
       "exitReason               int64\n",
       "exitEmpOutcome          object\n",
       "dtype: object"
      ]
     },
     "execution_count": 124,
     "metadata": {},
     "output_type": "execute_result"
    }
   ],
   "source": [
    "df1.dtypes"
   ]
  },
  {
   "cell_type": "code",
   "execution_count": 125,
   "id": "56232852-4d5a-454b-9b96-b655b07ca710",
   "metadata": {},
   "outputs": [],
   "source": [
    "df1 = df1.dropna()"
   ]
  },
  {
   "cell_type": "code",
   "execution_count": 126,
   "id": "b099849c-f04e-4954-b38a-729c12d4eaeb",
   "metadata": {},
   "outputs": [
    {
     "data": {
      "text/plain": [
       "(484640, 31)"
      ]
     },
     "execution_count": 126,
     "metadata": {},
     "output_type": "execute_result"
    }
   ],
   "source": [
    "df1.shape"
   ]
  },
  {
   "cell_type": "code",
   "execution_count": 127,
   "id": "ef435ae8-70e3-48bb-9313-34798b054aff",
   "metadata": {},
   "outputs": [
    {
     "data": {
      "text/plain": [
       "1    320220\n",
       "      86760\n",
       "1     70003\n",
       "9      5506\n",
       "0      1249\n",
       "9       635\n",
       "0       267\n",
       "Name: Disability, dtype: int64"
      ]
     },
     "execution_count": 127,
     "metadata": {},
     "output_type": "execute_result"
    }
   ],
   "source": [
    "df1['Disability'].value_counts()"
   ]
  },
  {
   "cell_type": "code",
   "execution_count": 128,
   "id": "5eba4aa6-5062-4dbf-b48c-5c1095b72d21",
   "metadata": {},
   "outputs": [],
   "source": [
    "df1.drop(df1[df1['Disability']== ' '].index, inplace = True)"
   ]
  },
  {
   "cell_type": "code",
   "execution_count": 129,
   "id": "114ffb6f-d612-44a5-a033-f452e4ae4e33",
   "metadata": {},
   "outputs": [],
   "source": [
    "df1['Disability'] = df1['Disability'].astype(str).astype(int)"
   ]
  },
  {
   "cell_type": "code",
   "execution_count": 130,
   "id": "96ddc530-8ba1-4a56-a73b-7fff13899815",
   "metadata": {},
   "outputs": [
    {
     "data": {
      "text/plain": [
       "1    390223\n",
       "9      6141\n",
       "0      1516\n",
       "Name: Disability, dtype: int64"
      ]
     },
     "execution_count": 130,
     "metadata": {},
     "output_type": "execute_result"
    }
   ],
   "source": [
    "df1['Disability'].value_counts()"
   ]
  },
  {
   "cell_type": "code",
   "execution_count": 131,
   "id": "c6193443-57b3-491c-9456-800594e6af41",
   "metadata": {},
   "outputs": [
    {
     "data": {
      "text/plain": [
       "(397880, 31)"
      ]
     },
     "execution_count": 131,
     "metadata": {},
     "output_type": "execute_result"
    }
   ],
   "source": [
    "df1.shape"
   ]
  },
  {
   "cell_type": "code",
   "execution_count": 132,
   "id": "f1aaa77b-abb6-45b8-a3f8-3b12d5ee7a25",
   "metadata": {},
   "outputs": [
    {
     "data": {
      "text/plain": [
       "17    96984\n",
       "18    92078\n",
       "17    25800\n",
       "19    25773\n",
       "16    19448\n",
       "18    16658\n",
       "10    11912\n",
       "15     9578\n",
       "06     7152\n",
       "6      7150\n",
       "12     6970\n",
       "13     6597\n",
       "       6567\n",
       "1      5402\n",
       "6      5196\n",
       "0      4342\n",
       "2      4005\n",
       "11     3793\n",
       "16     3432\n",
       "15     2936\n",
       "3      2820\n",
       "19     2697\n",
       "02     2529\n",
       "10     2338\n",
       "12     2283\n",
       "09     2096\n",
       "03     1916\n",
       "01     1689\n",
       "9      1646\n",
       "14     1640\n",
       "2      1623\n",
       "1      1492\n",
       "13     1323\n",
       "04     1275\n",
       "3      1194\n",
       "4       999\n",
       "11      897\n",
       "5       863\n",
       "4       653\n",
       "0       590\n",
       "9       562\n",
       "05      485\n",
       "14      469\n",
       "00      458\n",
       "5       335\n",
       "07      328\n",
       "7       321\n",
       "7       254\n",
       "8       179\n",
       "08      116\n",
       "8        37\n",
       "Name: PrimDisability, dtype: int64"
      ]
     },
     "execution_count": 132,
     "metadata": {},
     "output_type": "execute_result"
    }
   ],
   "source": [
    "df1['PrimDisability'].value_counts()"
   ]
  },
  {
   "cell_type": "code",
   "execution_count": 133,
   "id": "31279599-8d00-4111-bbd4-ff8f993ed63c",
   "metadata": {},
   "outputs": [],
   "source": [
    "df1.drop(df1[df1['PrimDisability']== ' '].index, inplace = True)"
   ]
  },
  {
   "cell_type": "code",
   "execution_count": 134,
   "id": "481ec060-f53b-4c33-bc57-3e663d403b03",
   "metadata": {},
   "outputs": [],
   "source": [
    "df1['PrimDisability'] = df1['PrimDisability'].astype(str).astype(int)"
   ]
  },
  {
   "cell_type": "code",
   "execution_count": 141,
   "id": "9ff05b98-a4a8-40b4-81ff-b38467edf326",
   "metadata": {},
   "outputs": [
    {
     "data": {
      "text/plain": [
       "17    122784\n",
       "18    108736\n",
       "19     28470\n",
       "16     22880\n",
       "6      19498\n",
       "10     14250\n",
       "15     12514\n",
       "12      9253\n",
       "1       8583\n",
       "2       8157\n",
       "13      7920\n",
       "3       5930\n",
       "0       5390\n",
       "11      4690\n",
       "9       4304\n",
       "4       2927\n",
       "14      2109\n",
       "5       1683\n",
       "7        903\n",
       "8        332\n",
       "Name: PrimDisability, dtype: int64"
      ]
     },
     "execution_count": 141,
     "metadata": {},
     "output_type": "execute_result"
    }
   ],
   "source": [
    "df1['PrimDisability'].value_counts()"
   ]
  },
  {
   "cell_type": "code",
   "execution_count": 136,
   "id": "db162b85-bc58-420d-9b39-ac38018650c5",
   "metadata": {},
   "outputs": [
    {
     "data": {
      "text/plain": [
       "(391313, 31)"
      ]
     },
     "execution_count": 136,
     "metadata": {},
     "output_type": "execute_result"
    }
   ],
   "source": [
    "df1.shape"
   ]
  },
  {
   "cell_type": "code",
   "execution_count": 137,
   "id": "874f13e3-4428-4de5-adaf-d944694126c4",
   "metadata": {},
   "outputs": [
    {
     "data": {
      "text/plain": [
       "1    217472\n",
       "2    170768\n",
       "9      2092\n",
       "0       981\n",
       "Name: Sex, dtype: int64"
      ]
     },
     "execution_count": 137,
     "metadata": {},
     "output_type": "execute_result"
    }
   ],
   "source": [
    "df1['Sex'].value_counts()"
   ]
  },
  {
   "cell_type": "code",
   "execution_count": 138,
   "id": "b5f88d7b-ae04-42dd-9e43-a321f121dbbe",
   "metadata": {},
   "outputs": [
    {
     "data": {
      "text/plain": [
       "0    377217\n",
       "1      9567\n",
       "9      4529\n",
       "Name: AmerIndian, dtype: int64"
      ]
     },
     "execution_count": 138,
     "metadata": {},
     "output_type": "execute_result"
    }
   ],
   "source": [
    "df1['AmerIndian'].value_counts()"
   ]
  },
  {
   "cell_type": "code",
   "execution_count": 112,
   "id": "b24cdf2e-e28c-4ca0-820f-47a8bef3be02",
   "metadata": {},
   "outputs": [
    {
     "data": {
      "text/plain": [
       "0    378780\n",
       "1      8004\n",
       "9      4529\n",
       "Name: Asian, dtype: int64"
      ]
     },
     "execution_count": 112,
     "metadata": {},
     "output_type": "execute_result"
    }
   ],
   "source": [
    "df1['Asian'].value_counts()"
   ]
  },
  {
   "cell_type": "code",
   "execution_count": 113,
   "id": "609c0c97-daee-48fa-9ce5-00e3f69730bc",
   "metadata": {},
   "outputs": [
    {
     "data": {
      "text/plain": [
       "0    288669\n",
       "1     98124\n",
       "9      4520\n",
       "Name: Black, dtype: int64"
      ]
     },
     "execution_count": 113,
     "metadata": {},
     "output_type": "execute_result"
    }
   ],
   "source": [
    "df1['Black'].value_counts()"
   ]
  },
  {
   "cell_type": "code",
   "execution_count": 114,
   "id": "1b261a7a-1ca7-47b2-9cbd-46e030ba7905",
   "metadata": {},
   "outputs": [
    {
     "data": {
      "text/plain": [
       "0    384448\n",
       "9      4555\n",
       "1      2310\n",
       "Name: Hawaiian, dtype: int64"
      ]
     },
     "execution_count": 114,
     "metadata": {},
     "output_type": "execute_result"
    }
   ],
   "source": [
    "df1['Hawaiian'].value_counts()"
   ]
  },
  {
   "cell_type": "code",
   "execution_count": 115,
   "id": "24581c21-0777-440b-896d-40aed8acf851",
   "metadata": {},
   "outputs": [
    {
     "data": {
      "text/plain": [
       "1    278044\n",
       "0    108819\n",
       "9      4450\n",
       "Name: White, dtype: int64"
      ]
     },
     "execution_count": 115,
     "metadata": {},
     "output_type": "execute_result"
    }
   ],
   "source": [
    "df1['White'].value_counts()"
   ]
  },
  {
   "cell_type": "code",
   "execution_count": 116,
   "id": "7cd52bd6-add3-49c5-97e1-cad01cd2d120",
   "metadata": {},
   "outputs": [
    {
     "data": {
      "text/plain": [
       "0    333367\n",
       "1     52507\n",
       "9      5439\n",
       "Name: Hispanic, dtype: int64"
      ]
     },
     "execution_count": 116,
     "metadata": {},
     "output_type": "execute_result"
    }
   ],
   "source": [
    "df1['Hispanic'].value_counts()"
   ]
  },
  {
   "cell_type": "code",
   "execution_count": 117,
   "id": "6c3f4e24-8348-4a85-92c4-600b88436582",
   "metadata": {},
   "outputs": [
    {
     "data": {
      "text/plain": [
       "0    379991\n",
       "1     11322\n",
       "Name: Veteran, dtype: int64"
      ]
     },
     "execution_count": 117,
     "metadata": {},
     "output_type": "execute_result"
    }
   ],
   "source": [
    "df1['Veteran'].value_counts()\n"
   ]
  },
  {
   "cell_type": "code",
   "execution_count": 118,
   "id": "190b73a3-fe08-4efe-b4d6-c6e273576dc2",
   "metadata": {},
   "outputs": [
    {
     "data": {
      "text/plain": [
       "0    312882\n",
       "2     57505\n",
       "3     16443\n",
       "1      4483\n",
       "Name: Student, dtype: int64"
      ]
     },
     "execution_count": 118,
     "metadata": {},
     "output_type": "execute_result"
    }
   ],
   "source": [
    "df1['Student'].value_counts()"
   ]
  },
  {
   "cell_type": "code",
   "execution_count": 147,
   "id": "6317c768-7899-44ec-8e63-2309fe0c84c4",
   "metadata": {},
   "outputs": [
    {
     "data": {
      "text/plain": [
       "35     30127\n",
       "48     26622\n",
       "6      26194\n",
       "42     20838\n",
       "11     18719\n",
       "       ...  \n",
       "65        96\n",
       "78        95\n",
       "38        59\n",
       "90        51\n",
       "106       51\n",
       "Name: AgencyCode, Length: 77, dtype: int64"
      ]
     },
     "execution_count": 147,
     "metadata": {},
     "output_type": "execute_result"
    }
   ],
   "source": [
    "df1['AgencyCode'].value_counts()"
   ]
  },
  {
   "cell_type": "code",
   "execution_count": 151,
   "id": "e4982007-6013-47f7-99a9-511f703e7995",
   "metadata": {},
   "outputs": [
    {
     "data": {
      "text/plain": [
       "12461"
      ]
     },
     "execution_count": 151,
     "metadata": {},
     "output_type": "execute_result"
    }
   ],
   "source": [
    "df1['AgencyCode'].value_counts()[16]"
   ]
  },
  {
   "cell_type": "code",
   "execution_count": null,
   "id": "cb781ed8-36fd-4b78-90f1-ea11eb208d26",
   "metadata": {},
   "outputs": [],
   "source": [
    "df1.to_csv('out.csv')"
   ]
  }
 ],
 "metadata": {
  "kernelspec": {
   "display_name": "Python 3 (ipykernel)",
   "language": "python",
   "name": "python3"
  },
  "language_info": {
   "codemirror_mode": {
    "name": "ipython",
    "version": 3
   },
   "file_extension": ".py",
   "mimetype": "text/x-python",
   "name": "python",
   "nbconvert_exporter": "python",
   "pygments_lexer": "ipython3",
   "version": "3.9.12"
  }
 },
 "nbformat": 4,
 "nbformat_minor": 5
}
