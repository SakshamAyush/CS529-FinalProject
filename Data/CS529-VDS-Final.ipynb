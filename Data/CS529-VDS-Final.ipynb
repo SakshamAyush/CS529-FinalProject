{
 "cells": [
  {
   "cell_type": "code",
   "execution_count": 1,
   "id": "2ae93e35",
   "metadata": {},
   "outputs": [],
   "source": [
    "import pandas as pd\n",
    "#import geopy\n",
    "import numpy as np\n",
    "#import matplotlib.pyplot as plt\n",
    "import datetime\n",
    "from datetime import datetime\n",
    "#import geopandas as gpd\n",
    "#from shapely.geometry import Point\n",
    "#import seaborn as sns"
   ]
  },
  {
   "cell_type": "code",
   "execution_count": 9,
   "id": "2d9d1b83",
   "metadata": {},
   "outputs": [
    {
     "name": "stderr",
     "output_type": "stream",
     "text": [
      "/var/folders/83/89yy6_vx7ds1g1hkvv0r0sv00000gn/T/ipykernel_10308/375403411.py:1: DtypeWarning: Columns (2,33,34,35,36,37,38,42,43,45,46,47,48,49,50,51,52,53,55,56,57,58,59,60,61,62,63,64,65,66,68,69,70,71,73,76,77,79,84,85,342,344,345,350,352,353,354,355,356,357,358,359,360,361,362,363,364,365,366,367,368,372,373,374,377,379,380,381,382,383,384,385,386,387) have mixed types. Specify dtype option on import or set low_memory=False.\n",
      "  df = pd.read_csv('../../PY19annual_public_exiter.csv')\n"
     ]
    }
   ],
   "source": [
    "df = pd.read_csv('../../PY19annual_public_exiter.csv')"
   ]
  },
  {
   "cell_type": "code",
   "execution_count": 10,
   "id": "c9a81228",
   "metadata": {},
   "outputs": [
    {
     "data": {
      "text/html": [
       "<div>\n",
       "<style scoped>\n",
       "    .dataframe tbody tr th:only-of-type {\n",
       "        vertical-align: middle;\n",
       "    }\n",
       "\n",
       "    .dataframe tbody tr th {\n",
       "        vertical-align: top;\n",
       "    }\n",
       "\n",
       "    .dataframe thead th {\n",
       "        text-align: right;\n",
       "    }\n",
       "</style>\n",
       "<table border=\"1\" class=\"dataframe\">\n",
       "  <thead>\n",
       "    <tr style=\"text-align: right;\">\n",
       "      <th></th>\n",
       "      <th>ProgramYear</th>\n",
       "      <th>AgencyCode</th>\n",
       "      <th>ApplicationDate</th>\n",
       "      <th>Sex</th>\n",
       "      <th>AmerIndian</th>\n",
       "      <th>Asian</th>\n",
       "      <th>Black</th>\n",
       "      <th>Hawaiian</th>\n",
       "      <th>White</th>\n",
       "      <th>Hispanic</th>\n",
       "      <th>...</th>\n",
       "      <th>q4aeEmpStatus</th>\n",
       "      <th>q4aeEmpMatchType</th>\n",
       "      <th>q4aeWages</th>\n",
       "      <th>q4aeRetentionQ2AndQ4</th>\n",
       "      <th>appOtherSupport</th>\n",
       "      <th>age_app</th>\n",
       "      <th>age_IPE</th>\n",
       "      <th>age_startPreETS</th>\n",
       "      <th>age_startVRservice</th>\n",
       "      <th>age_exit</th>\n",
       "    </tr>\n",
       "  </thead>\n",
       "  <tbody>\n",
       "    <tr>\n",
       "      <th>0</th>\n",
       "      <td>2019</td>\n",
       "      <td>1</td>\n",
       "      <td>20171206</td>\n",
       "      <td>2</td>\n",
       "      <td>0</td>\n",
       "      <td>0</td>\n",
       "      <td>1</td>\n",
       "      <td>0</td>\n",
       "      <td>0</td>\n",
       "      <td>0</td>\n",
       "      <td>...</td>\n",
       "      <td></td>\n",
       "      <td></td>\n",
       "      <td></td>\n",
       "      <td>0</td>\n",
       "      <td>0</td>\n",
       "      <td>55</td>\n",
       "      <td>56</td>\n",
       "      <td></td>\n",
       "      <td>56</td>\n",
       "      <td>57</td>\n",
       "    </tr>\n",
       "    <tr>\n",
       "      <th>1</th>\n",
       "      <td>2019</td>\n",
       "      <td>1</td>\n",
       "      <td>20190819</td>\n",
       "      <td>2</td>\n",
       "      <td>0</td>\n",
       "      <td>0</td>\n",
       "      <td>0</td>\n",
       "      <td>0</td>\n",
       "      <td>1</td>\n",
       "      <td>0</td>\n",
       "      <td>...</td>\n",
       "      <td></td>\n",
       "      <td></td>\n",
       "      <td></td>\n",
       "      <td>0</td>\n",
       "      <td>0</td>\n",
       "      <td>49</td>\n",
       "      <td>49</td>\n",
       "      <td></td>\n",
       "      <td>49</td>\n",
       "      <td>50</td>\n",
       "    </tr>\n",
       "    <tr>\n",
       "      <th>2</th>\n",
       "      <td>2019</td>\n",
       "      <td>1</td>\n",
       "      <td>20180522</td>\n",
       "      <td>1</td>\n",
       "      <td>0</td>\n",
       "      <td>0</td>\n",
       "      <td>1</td>\n",
       "      <td>0</td>\n",
       "      <td>0</td>\n",
       "      <td>0</td>\n",
       "      <td>...</td>\n",
       "      <td></td>\n",
       "      <td></td>\n",
       "      <td></td>\n",
       "      <td>0</td>\n",
       "      <td>0</td>\n",
       "      <td>45</td>\n",
       "      <td>46</td>\n",
       "      <td></td>\n",
       "      <td>46</td>\n",
       "      <td>46</td>\n",
       "    </tr>\n",
       "    <tr>\n",
       "      <th>3</th>\n",
       "      <td>2019</td>\n",
       "      <td>1</td>\n",
       "      <td>20200107</td>\n",
       "      <td>1</td>\n",
       "      <td>0</td>\n",
       "      <td>0</td>\n",
       "      <td>1</td>\n",
       "      <td>0</td>\n",
       "      <td>0</td>\n",
       "      <td>0</td>\n",
       "      <td>...</td>\n",
       "      <td></td>\n",
       "      <td></td>\n",
       "      <td></td>\n",
       "      <td></td>\n",
       "      <td>0</td>\n",
       "      <td>42</td>\n",
       "      <td></td>\n",
       "      <td></td>\n",
       "      <td></td>\n",
       "      <td>42</td>\n",
       "    </tr>\n",
       "    <tr>\n",
       "      <th>4</th>\n",
       "      <td>2019</td>\n",
       "      <td>1</td>\n",
       "      <td>20170906</td>\n",
       "      <td>2</td>\n",
       "      <td>0</td>\n",
       "      <td>0</td>\n",
       "      <td>1</td>\n",
       "      <td>0</td>\n",
       "      <td>0</td>\n",
       "      <td>0</td>\n",
       "      <td>...</td>\n",
       "      <td></td>\n",
       "      <td></td>\n",
       "      <td></td>\n",
       "      <td>0</td>\n",
       "      <td>0</td>\n",
       "      <td>40</td>\n",
       "      <td>42</td>\n",
       "      <td></td>\n",
       "      <td>40</td>\n",
       "      <td>42</td>\n",
       "    </tr>\n",
       "  </tbody>\n",
       "</table>\n",
       "<p>5 rows × 392 columns</p>\n",
       "</div>"
      ],
      "text/plain": [
       "   ProgramYear  AgencyCode ApplicationDate  Sex  AmerIndian  Asian  Black  \\\n",
       "0         2019           1        20171206    2           0      0      1   \n",
       "1         2019           1        20190819    2           0      0      0   \n",
       "2         2019           1        20180522    1           0      0      1   \n",
       "3         2019           1        20200107    1           0      0      1   \n",
       "4         2019           1        20170906    2           0      0      1   \n",
       "\n",
       "   Hawaiian  White  Hispanic  ...  q4aeEmpStatus  q4aeEmpMatchType  q4aeWages  \\\n",
       "0         0      0         0  ...                                               \n",
       "1         0      1         0  ...                                               \n",
       "2         0      0         0  ...                                               \n",
       "3         0      0         0  ...                                               \n",
       "4         0      0         0  ...                                               \n",
       "\n",
       "   q4aeRetentionQ2AndQ4  appOtherSupport  age_app  age_IPE  age_startPreETS  \\\n",
       "0                     0                0       55       56                    \n",
       "1                     0                0       49       49                    \n",
       "2                     0                0       45       46                    \n",
       "3                                      0       42                             \n",
       "4                     0                0       40       42                    \n",
       "\n",
       "   age_startVRservice  age_exit  \n",
       "0                  56        57  \n",
       "1                  49        50  \n",
       "2                  46        46  \n",
       "3                            42  \n",
       "4                  40        42  \n",
       "\n",
       "[5 rows x 392 columns]"
      ]
     },
     "execution_count": 10,
     "metadata": {},
     "output_type": "execute_result"
    }
   ],
   "source": [
    "df.head()"
   ]
  },
  {
   "cell_type": "code",
   "execution_count": 11,
   "id": "7ac6c4d1",
   "metadata": {},
   "outputs": [
    {
     "data": {
      "text/plain": [
       "(484640, 392)"
      ]
     },
     "execution_count": 11,
     "metadata": {},
     "output_type": "execute_result"
    }
   ],
   "source": [
    "df.shape"
   ]
  },
  {
   "cell_type": "code",
   "execution_count": 50,
   "id": "6d5e5000",
   "metadata": {},
   "outputs": [],
   "source": [
    "df1 = df[['AgencyCode','ApplicationDate','Sex','AmerIndian','Asian','Black','Hawaiian','White','Hispanic','Veteran','Student'\n",
    "         ,'appSSDI','appSSI','appMedicaid','appMedicare','Disability','PrimDisability','TWEStartDate','TWEEndDate'\n",
    "         ,'IPEAmendedDate','ipeEmpStatus','ipeHourlyWage','ipeWeeklyHoursWorked','Adult','VocRehab','EmpOutcome','eoHourlyWage'\n",
    "         ,'exitDate','exitType','exitReason','exitEmpOutcome']].copy()"
   ]
  },
  {
   "cell_type": "code",
   "execution_count": 51,
   "id": "92d2eb99-e78f-4701-8424-83d57317748e",
   "metadata": {},
   "outputs": [
    {
     "data": {
      "text/plain": [
       "AgencyCode               int64\n",
       "ApplicationDate         object\n",
       "Sex                      int64\n",
       "AmerIndian               int64\n",
       "Asian                    int64\n",
       "Black                    int64\n",
       "Hawaiian                 int64\n",
       "White                    int64\n",
       "Hispanic                 int64\n",
       "Veteran                  int64\n",
       "Student                  int64\n",
       "appSSDI                  int64\n",
       "appSSI                   int64\n",
       "appMedicaid              int64\n",
       "appMedicare              int64\n",
       "Disability              object\n",
       "PrimDisability          object\n",
       "TWEStartDate            object\n",
       "TWEEndDate              object\n",
       "IPEAmendedDate          object\n",
       "ipeEmpStatus            object\n",
       "ipeHourlyWage           object\n",
       "ipeWeeklyHoursWorked    object\n",
       "Adult                   object\n",
       "VocRehab                object\n",
       "EmpOutcome              object\n",
       "eoHourlyWage            object\n",
       "exitDate                 int64\n",
       "exitType                 int64\n",
       "exitReason               int64\n",
       "exitEmpOutcome          object\n",
       "dtype: object"
      ]
     },
     "execution_count": 51,
     "metadata": {},
     "output_type": "execute_result"
    }
   ],
   "source": [
    "df1.dtypes"
   ]
  },
  {
   "cell_type": "code",
   "execution_count": 52,
   "id": "56232852-4d5a-454b-9b96-b655b07ca710",
   "metadata": {},
   "outputs": [],
   "source": [
    "df1 = df1.dropna()"
   ]
  },
  {
   "cell_type": "code",
   "execution_count": 53,
   "id": "b099849c-f04e-4954-b38a-729c12d4eaeb",
   "metadata": {},
   "outputs": [
    {
     "data": {
      "text/plain": [
       "(484640, 31)"
      ]
     },
     "execution_count": 53,
     "metadata": {},
     "output_type": "execute_result"
    }
   ],
   "source": [
    "df1.shape"
   ]
  },
  {
   "cell_type": "code",
   "execution_count": 54,
   "id": "ef435ae8-70e3-48bb-9313-34798b054aff",
   "metadata": {},
   "outputs": [
    {
     "data": {
      "text/plain": [
       "1    320220\n",
       "      86760\n",
       "1     70003\n",
       "9      5506\n",
       "0      1249\n",
       "9       635\n",
       "0       267\n",
       "Name: Disability, dtype: int64"
      ]
     },
     "execution_count": 54,
     "metadata": {},
     "output_type": "execute_result"
    }
   ],
   "source": [
    "df1['Disability'].value_counts()"
   ]
  },
  {
   "cell_type": "code",
   "execution_count": 55,
   "id": "5eba4aa6-5062-4dbf-b48c-5c1095b72d21",
   "metadata": {},
   "outputs": [],
   "source": [
    "df1.drop(df1[df1['Disability']== ' '].index, inplace = True)"
   ]
  },
  {
   "cell_type": "code",
   "execution_count": 56,
   "id": "114ffb6f-d612-44a5-a033-f452e4ae4e33",
   "metadata": {},
   "outputs": [],
   "source": [
    "df1['Disability'] = df1['Disability'].astype(str).astype(int)"
   ]
  },
  {
   "cell_type": "code",
   "execution_count": 57,
   "id": "96ddc530-8ba1-4a56-a73b-7fff13899815",
   "metadata": {},
   "outputs": [
    {
     "data": {
      "text/plain": [
       "1    390223\n",
       "9      6141\n",
       "0      1516\n",
       "Name: Disability, dtype: int64"
      ]
     },
     "execution_count": 57,
     "metadata": {},
     "output_type": "execute_result"
    }
   ],
   "source": [
    "df1['Disability'].value_counts()"
   ]
  },
  {
   "cell_type": "code",
   "execution_count": 58,
   "id": "c6193443-57b3-491c-9456-800594e6af41",
   "metadata": {},
   "outputs": [
    {
     "data": {
      "text/plain": [
       "(397880, 31)"
      ]
     },
     "execution_count": 58,
     "metadata": {},
     "output_type": "execute_result"
    }
   ],
   "source": [
    "df1.shape"
   ]
  },
  {
   "cell_type": "code",
   "execution_count": 59,
   "id": "f1aaa77b-abb6-45b8-a3f8-3b12d5ee7a25",
   "metadata": {},
   "outputs": [
    {
     "data": {
      "text/plain": [
       "17    96984\n",
       "18    92078\n",
       "17    25800\n",
       "19    25773\n",
       "16    19448\n",
       "18    16658\n",
       "10    11912\n",
       "15     9578\n",
       "06     7152\n",
       "6      7150\n",
       "12     6970\n",
       "13     6597\n",
       "       6567\n",
       "1      5402\n",
       "6      5196\n",
       "0      4342\n",
       "2      4005\n",
       "11     3793\n",
       "16     3432\n",
       "15     2936\n",
       "3      2820\n",
       "19     2697\n",
       "02     2529\n",
       "10     2338\n",
       "12     2283\n",
       "09     2096\n",
       "03     1916\n",
       "01     1689\n",
       "9      1646\n",
       "14     1640\n",
       "2      1623\n",
       "1      1492\n",
       "13     1323\n",
       "04     1275\n",
       "3      1194\n",
       "4       999\n",
       "11      897\n",
       "5       863\n",
       "4       653\n",
       "0       590\n",
       "9       562\n",
       "05      485\n",
       "14      469\n",
       "00      458\n",
       "5       335\n",
       "07      328\n",
       "7       321\n",
       "7       254\n",
       "8       179\n",
       "08      116\n",
       "8        37\n",
       "Name: PrimDisability, dtype: int64"
      ]
     },
     "execution_count": 59,
     "metadata": {},
     "output_type": "execute_result"
    }
   ],
   "source": [
    "df1['PrimDisability'].value_counts()"
   ]
  },
  {
   "cell_type": "code",
   "execution_count": 60,
   "id": "31279599-8d00-4111-bbd4-ff8f993ed63c",
   "metadata": {},
   "outputs": [],
   "source": [
    "df1.drop(df1[df1['PrimDisability']== ' '].index, inplace = True)"
   ]
  },
  {
   "cell_type": "code",
   "execution_count": 61,
   "id": "481ec060-f53b-4c33-bc57-3e663d403b03",
   "metadata": {},
   "outputs": [],
   "source": [
    "df1['PrimDisability'] = df1['PrimDisability'].astype(str).astype(int)"
   ]
  },
  {
   "cell_type": "code",
   "execution_count": 62,
   "id": "9ff05b98-a4a8-40b4-81ff-b38467edf326",
   "metadata": {},
   "outputs": [
    {
     "data": {
      "text/plain": [
       "17    122784\n",
       "18    108736\n",
       "19     28470\n",
       "16     22880\n",
       "6      19498\n",
       "10     14250\n",
       "15     12514\n",
       "12      9253\n",
       "1       8583\n",
       "2       8157\n",
       "13      7920\n",
       "3       5930\n",
       "0       5390\n",
       "11      4690\n",
       "9       4304\n",
       "4       2927\n",
       "14      2109\n",
       "5       1683\n",
       "7        903\n",
       "8        332\n",
       "Name: PrimDisability, dtype: int64"
      ]
     },
     "execution_count": 62,
     "metadata": {},
     "output_type": "execute_result"
    }
   ],
   "source": [
    "df1['PrimDisability'].value_counts()"
   ]
  },
  {
   "cell_type": "code",
   "execution_count": 63,
   "id": "db162b85-bc58-420d-9b39-ac38018650c5",
   "metadata": {},
   "outputs": [
    {
     "data": {
      "text/plain": [
       "(391313, 31)"
      ]
     },
     "execution_count": 63,
     "metadata": {},
     "output_type": "execute_result"
    }
   ],
   "source": [
    "df1.shape"
   ]
  },
  {
   "cell_type": "code",
   "execution_count": 64,
   "id": "874f13e3-4428-4de5-adaf-d944694126c4",
   "metadata": {},
   "outputs": [
    {
     "data": {
      "text/plain": [
       "1    217472\n",
       "2    170768\n",
       "9      2092\n",
       "0       981\n",
       "Name: Sex, dtype: int64"
      ]
     },
     "execution_count": 64,
     "metadata": {},
     "output_type": "execute_result"
    }
   ],
   "source": [
    "df1['Sex'].value_counts()"
   ]
  },
  {
   "cell_type": "code",
   "execution_count": 65,
   "id": "b5f88d7b-ae04-42dd-9e43-a321f121dbbe",
   "metadata": {},
   "outputs": [
    {
     "data": {
      "text/plain": [
       "0    377217\n",
       "1      9567\n",
       "9      4529\n",
       "Name: AmerIndian, dtype: int64"
      ]
     },
     "execution_count": 65,
     "metadata": {},
     "output_type": "execute_result"
    }
   ],
   "source": [
    "df1['AmerIndian'].value_counts()"
   ]
  },
  {
   "cell_type": "code",
   "execution_count": 66,
   "id": "b24cdf2e-e28c-4ca0-820f-47a8bef3be02",
   "metadata": {},
   "outputs": [
    {
     "data": {
      "text/plain": [
       "0    378780\n",
       "1      8004\n",
       "9      4529\n",
       "Name: Asian, dtype: int64"
      ]
     },
     "execution_count": 66,
     "metadata": {},
     "output_type": "execute_result"
    }
   ],
   "source": [
    "df1['Asian'].value_counts()"
   ]
  },
  {
   "cell_type": "code",
   "execution_count": 67,
   "id": "609c0c97-daee-48fa-9ce5-00e3f69730bc",
   "metadata": {},
   "outputs": [
    {
     "data": {
      "text/plain": [
       "0    288669\n",
       "1     98124\n",
       "9      4520\n",
       "Name: Black, dtype: int64"
      ]
     },
     "execution_count": 67,
     "metadata": {},
     "output_type": "execute_result"
    }
   ],
   "source": [
    "df1['Black'].value_counts()"
   ]
  },
  {
   "cell_type": "code",
   "execution_count": 68,
   "id": "1b261a7a-1ca7-47b2-9cbd-46e030ba7905",
   "metadata": {},
   "outputs": [
    {
     "data": {
      "text/plain": [
       "0    384448\n",
       "9      4555\n",
       "1      2310\n",
       "Name: Hawaiian, dtype: int64"
      ]
     },
     "execution_count": 68,
     "metadata": {},
     "output_type": "execute_result"
    }
   ],
   "source": [
    "df1['Hawaiian'].value_counts()"
   ]
  },
  {
   "cell_type": "code",
   "execution_count": 69,
   "id": "24581c21-0777-440b-896d-40aed8acf851",
   "metadata": {},
   "outputs": [
    {
     "data": {
      "text/plain": [
       "1    278044\n",
       "0    108819\n",
       "9      4450\n",
       "Name: White, dtype: int64"
      ]
     },
     "execution_count": 69,
     "metadata": {},
     "output_type": "execute_result"
    }
   ],
   "source": [
    "df1['White'].value_counts()"
   ]
  },
  {
   "cell_type": "code",
   "execution_count": 70,
   "id": "7cd52bd6-add3-49c5-97e1-cad01cd2d120",
   "metadata": {},
   "outputs": [
    {
     "data": {
      "text/plain": [
       "0    333367\n",
       "1     52507\n",
       "9      5439\n",
       "Name: Hispanic, dtype: int64"
      ]
     },
     "execution_count": 70,
     "metadata": {},
     "output_type": "execute_result"
    }
   ],
   "source": [
    "df1['Hispanic'].value_counts()"
   ]
  },
  {
   "cell_type": "code",
   "execution_count": 71,
   "id": "6c3f4e24-8348-4a85-92c4-600b88436582",
   "metadata": {},
   "outputs": [
    {
     "data": {
      "text/plain": [
       "0    379991\n",
       "1     11322\n",
       "Name: Veteran, dtype: int64"
      ]
     },
     "execution_count": 71,
     "metadata": {},
     "output_type": "execute_result"
    }
   ],
   "source": [
    "df1['Veteran'].value_counts()\n"
   ]
  },
  {
   "cell_type": "code",
   "execution_count": 72,
   "id": "190b73a3-fe08-4efe-b4d6-c6e273576dc2",
   "metadata": {},
   "outputs": [
    {
     "data": {
      "text/plain": [
       "0    312882\n",
       "2     57505\n",
       "3     16443\n",
       "1      4483\n",
       "Name: Student, dtype: int64"
      ]
     },
     "execution_count": 72,
     "metadata": {},
     "output_type": "execute_result"
    }
   ],
   "source": [
    "df1['Student'].value_counts()"
   ]
  },
  {
   "cell_type": "code",
   "execution_count": 73,
   "id": "6317c768-7899-44ec-8e63-2309fe0c84c4",
   "metadata": {},
   "outputs": [
    {
     "data": {
      "text/plain": [
       "35     30127\n",
       "48     26622\n",
       "6      26194\n",
       "42     20838\n",
       "11     18719\n",
       "       ...  \n",
       "65        96\n",
       "78        95\n",
       "38        59\n",
       "90        51\n",
       "106       51\n",
       "Name: AgencyCode, Length: 77, dtype: int64"
      ]
     },
     "execution_count": 73,
     "metadata": {},
     "output_type": "execute_result"
    }
   ],
   "source": [
    "df1['AgencyCode'].value_counts()"
   ]
  },
  {
   "cell_type": "code",
   "execution_count": 74,
   "id": "e4982007-6013-47f7-99a9-511f703e7995",
   "metadata": {},
   "outputs": [
    {
     "data": {
      "text/plain": [
       "12461"
      ]
     },
     "execution_count": 74,
     "metadata": {},
     "output_type": "execute_result"
    }
   ],
   "source": [
    "df1['AgencyCode'].value_counts()[16]"
   ]
  },
  {
   "cell_type": "code",
   "execution_count": 80,
   "id": "9701d843-f3f0-41ad-8725-0759d29fddd3",
   "metadata": {},
   "outputs": [
    {
     "ename": "KeyError",
     "evalue": "59",
     "output_type": "error",
     "traceback": [
      "\u001b[0;31m---------------------------------------------------------------------------\u001b[0m",
      "\u001b[0;31mKeyError\u001b[0m                                  Traceback (most recent call last)",
      "File \u001b[0;32m/opt/anaconda3/lib/python3.9/site-packages/pandas/core/indexes/base.py:3621\u001b[0m, in \u001b[0;36mIndex.get_loc\u001b[0;34m(self, key, method, tolerance)\u001b[0m\n\u001b[1;32m   3620\u001b[0m \u001b[38;5;28;01mtry\u001b[39;00m:\n\u001b[0;32m-> 3621\u001b[0m     \u001b[38;5;28;01mreturn\u001b[39;00m \u001b[38;5;28;43mself\u001b[39;49m\u001b[38;5;241;43m.\u001b[39;49m\u001b[43m_engine\u001b[49m\u001b[38;5;241;43m.\u001b[39;49m\u001b[43mget_loc\u001b[49m\u001b[43m(\u001b[49m\u001b[43mcasted_key\u001b[49m\u001b[43m)\u001b[49m\n\u001b[1;32m   3622\u001b[0m \u001b[38;5;28;01mexcept\u001b[39;00m \u001b[38;5;167;01mKeyError\u001b[39;00m \u001b[38;5;28;01mas\u001b[39;00m err:\n",
      "File \u001b[0;32m/opt/anaconda3/lib/python3.9/site-packages/pandas/_libs/index.pyx:136\u001b[0m, in \u001b[0;36mpandas._libs.index.IndexEngine.get_loc\u001b[0;34m()\u001b[0m\n",
      "File \u001b[0;32m/opt/anaconda3/lib/python3.9/site-packages/pandas/_libs/index.pyx:163\u001b[0m, in \u001b[0;36mpandas._libs.index.IndexEngine.get_loc\u001b[0;34m()\u001b[0m\n",
      "File \u001b[0;32mpandas/_libs/hashtable_class_helper.pxi:2131\u001b[0m, in \u001b[0;36mpandas._libs.hashtable.Int64HashTable.get_item\u001b[0;34m()\u001b[0m\n",
      "File \u001b[0;32mpandas/_libs/hashtable_class_helper.pxi:2140\u001b[0m, in \u001b[0;36mpandas._libs.hashtable.Int64HashTable.get_item\u001b[0;34m()\u001b[0m\n",
      "\u001b[0;31mKeyError\u001b[0m: 59",
      "\nThe above exception was the direct cause of the following exception:\n",
      "\u001b[0;31mKeyError\u001b[0m                                  Traceback (most recent call last)",
      "Input \u001b[0;32mIn [80]\u001b[0m, in \u001b[0;36m<cell line: 1>\u001b[0;34m()\u001b[0m\n\u001b[0;32m----> 1\u001b[0m \u001b[43mdf1\u001b[49m\u001b[43m[\u001b[49m\u001b[38;5;124;43m'\u001b[39;49m\u001b[38;5;124;43mAgencyCode\u001b[39;49m\u001b[38;5;124;43m'\u001b[39;49m\u001b[43m]\u001b[49m\u001b[38;5;241;43m.\u001b[39;49m\u001b[43mvalue_counts\u001b[49m\u001b[43m(\u001b[49m\u001b[43m)\u001b[49m\u001b[43m[\u001b[49m\u001b[38;5;241;43m59\u001b[39;49m\u001b[43m]\u001b[49m\n",
      "File \u001b[0;32m/opt/anaconda3/lib/python3.9/site-packages/pandas/core/series.py:958\u001b[0m, in \u001b[0;36mSeries.__getitem__\u001b[0;34m(self, key)\u001b[0m\n\u001b[1;32m    955\u001b[0m     \u001b[38;5;28;01mreturn\u001b[39;00m \u001b[38;5;28mself\u001b[39m\u001b[38;5;241m.\u001b[39m_values[key]\n\u001b[1;32m    957\u001b[0m \u001b[38;5;28;01melif\u001b[39;00m key_is_scalar:\n\u001b[0;32m--> 958\u001b[0m     \u001b[38;5;28;01mreturn\u001b[39;00m \u001b[38;5;28;43mself\u001b[39;49m\u001b[38;5;241;43m.\u001b[39;49m\u001b[43m_get_value\u001b[49m\u001b[43m(\u001b[49m\u001b[43mkey\u001b[49m\u001b[43m)\u001b[49m\n\u001b[1;32m    960\u001b[0m \u001b[38;5;28;01mif\u001b[39;00m is_hashable(key):\n\u001b[1;32m    961\u001b[0m     \u001b[38;5;66;03m# Otherwise index.get_value will raise InvalidIndexError\u001b[39;00m\n\u001b[1;32m    962\u001b[0m     \u001b[38;5;28;01mtry\u001b[39;00m:\n\u001b[1;32m    963\u001b[0m         \u001b[38;5;66;03m# For labels that don't resolve as scalars like tuples and frozensets\u001b[39;00m\n",
      "File \u001b[0;32m/opt/anaconda3/lib/python3.9/site-packages/pandas/core/series.py:1069\u001b[0m, in \u001b[0;36mSeries._get_value\u001b[0;34m(self, label, takeable)\u001b[0m\n\u001b[1;32m   1066\u001b[0m     \u001b[38;5;28;01mreturn\u001b[39;00m \u001b[38;5;28mself\u001b[39m\u001b[38;5;241m.\u001b[39m_values[label]\n\u001b[1;32m   1068\u001b[0m \u001b[38;5;66;03m# Similar to Index.get_value, but we do not fall back to positional\u001b[39;00m\n\u001b[0;32m-> 1069\u001b[0m loc \u001b[38;5;241m=\u001b[39m \u001b[38;5;28;43mself\u001b[39;49m\u001b[38;5;241;43m.\u001b[39;49m\u001b[43mindex\u001b[49m\u001b[38;5;241;43m.\u001b[39;49m\u001b[43mget_loc\u001b[49m\u001b[43m(\u001b[49m\u001b[43mlabel\u001b[49m\u001b[43m)\u001b[49m\n\u001b[1;32m   1070\u001b[0m \u001b[38;5;28;01mreturn\u001b[39;00m \u001b[38;5;28mself\u001b[39m\u001b[38;5;241m.\u001b[39mindex\u001b[38;5;241m.\u001b[39m_get_values_for_loc(\u001b[38;5;28mself\u001b[39m, loc, label)\n",
      "File \u001b[0;32m/opt/anaconda3/lib/python3.9/site-packages/pandas/core/indexes/base.py:3623\u001b[0m, in \u001b[0;36mIndex.get_loc\u001b[0;34m(self, key, method, tolerance)\u001b[0m\n\u001b[1;32m   3621\u001b[0m     \u001b[38;5;28;01mreturn\u001b[39;00m \u001b[38;5;28mself\u001b[39m\u001b[38;5;241m.\u001b[39m_engine\u001b[38;5;241m.\u001b[39mget_loc(casted_key)\n\u001b[1;32m   3622\u001b[0m \u001b[38;5;28;01mexcept\u001b[39;00m \u001b[38;5;167;01mKeyError\u001b[39;00m \u001b[38;5;28;01mas\u001b[39;00m err:\n\u001b[0;32m-> 3623\u001b[0m     \u001b[38;5;28;01mraise\u001b[39;00m \u001b[38;5;167;01mKeyError\u001b[39;00m(key) \u001b[38;5;28;01mfrom\u001b[39;00m \u001b[38;5;21;01merr\u001b[39;00m\n\u001b[1;32m   3624\u001b[0m \u001b[38;5;28;01mexcept\u001b[39;00m \u001b[38;5;167;01mTypeError\u001b[39;00m:\n\u001b[1;32m   3625\u001b[0m     \u001b[38;5;66;03m# If we have a listlike key, _check_indexing_error will raise\u001b[39;00m\n\u001b[1;32m   3626\u001b[0m     \u001b[38;5;66;03m#  InvalidIndexError. Otherwise we fall through and re-raise\u001b[39;00m\n\u001b[1;32m   3627\u001b[0m     \u001b[38;5;66;03m#  the TypeError.\u001b[39;00m\n\u001b[1;32m   3628\u001b[0m     \u001b[38;5;28mself\u001b[39m\u001b[38;5;241m.\u001b[39m_check_indexing_error(key)\n",
      "\u001b[0;31mKeyError\u001b[0m: 59"
     ]
    }
   ],
   "source": [
    "df1['AgencyCode'].value_counts()[59]"
   ]
  },
  {
   "cell_type": "code",
   "execution_count": null,
   "id": "aacf00a6-8467-4ef4-9290-4ff61cb685b1",
   "metadata": {},
   "outputs": [],
   "source": []
  },
  {
   "cell_type": "code",
   "execution_count": 81,
   "id": "bd8d931b-02c7-49dd-9d7f-cc540b45ef0d",
   "metadata": {},
   "outputs": [],
   "source": [
    "df1.loc[df1[\"AgencyCode\"] == 1, \"AgencyCode\"] = \"Alabama\"\n",
    "df1.loc[df1[\"AgencyCode\"] == 57, \"AgencyCode\"] = \"Alabama\"\n",
    "\n",
    "df1.loc[df1[\"AgencyCode\"] == 2, \"AgencyCode\"] = \"Alaska\"\n",
    "df1.loc[df1[\"AgencyCode\"] == 58, \"AgencyCode\"] = \"Alaska\"\n",
    "\n",
    "df1.loc[df1[\"AgencyCode\"] == 3, \"AgencyCode\"] = \"American Samoa\"\n",
    "df1.loc[df1[\"AgencyCode\"] == 59, \"AgencyCode\"] = \"American Samoa\"\n",
    "\n",
    "df1.loc[df1[\"AgencyCode\"] == 4, \"AgencyCode\"] = \"Arizona\"\n",
    "df1.loc[df1[\"AgencyCode\"] == 60, \"AgencyCode\"] = \"Arizona\"\n",
    "\n",
    "df1.loc[df1[\"AgencyCode\"] == 5, \"AgencyCode\"] = \"Arkansas\"\n",
    "df1.loc[df1[\"AgencyCode\"] == 61, \"AgencyCode\"] = \"Arkansas\"\n",
    "\n",
    "df1.loc[df1[\"AgencyCode\"] == 6, \"AgencyCode\"] = \"California\"\n",
    "df1.loc[df1[\"AgencyCode\"] == 62, \"AgencyCode\"] = \"California\"\n",
    "\n",
    "df1.loc[df1[\"AgencyCode\"] == 7, \"AgencyCode\"] = \"Colorado\"\n",
    "df1.loc[df1[\"AgencyCode\"] == 63, \"AgencyCode\"] = \"Colorado\"\n",
    "\n",
    "df1.loc[df1[\"AgencyCode\"] == 8, \"AgencyCode\"] = \"Connecticut\"\n",
    "df1.loc[df1[\"AgencyCode\"] == 64, \"AgencyCode\"] = \"Connecticut\"\n",
    "\n",
    "df1.loc[df1[\"AgencyCode\"] == 9, \"AgencyCode\"] = \"Delaware\"\n",
    "df1.loc[df1[\"AgencyCode\"] == 65, \"AgencyCode\"] = \"Delaware\"\n",
    "\n",
    "df1.loc[df1[\"AgencyCode\"] == 10, \"AgencyCode\"] = \"District of Columbia\"\n",
    "df1.loc[df1[\"AgencyCode\"] == 66, \"AgencyCode\"] = \"District of Columbia\"\n",
    "\n",
    "df1.loc[df1[\"AgencyCode\"] == 11, \"AgencyCode\"] = \"Florida\"\n",
    "df1.loc[df1[\"AgencyCode\"] == 67, \"AgencyCode\"] = \"Florida\"\n",
    "\n",
    "df1.loc[df1[\"AgencyCode\"] == 12, \"AgencyCode\"] = \"Georgia\"\n",
    "df1.loc[df1[\"AgencyCode\"] == 68, \"AgencyCode\"] = \"Georgia\"\n",
    "\n",
    "df1.loc[df1[\"AgencyCode\"] == 13, \"AgencyCode\"] = \"Guam\"\n",
    "df1.loc[df1[\"AgencyCode\"] == 69, \"AgencyCode\"] = \"Guam\"\n",
    "\n",
    "df1.loc[df1[\"AgencyCode\"] == 14, \"AgencyCode\"] = \"Hawaii\"\n",
    "df1.loc[df1[\"AgencyCode\"] == 70, \"AgencyCode\"] = \"Hawaii\"\n",
    "\n",
    "df1.loc[df1[\"AgencyCode\"] == 15, \"AgencyCode\"] = \"Idaho\"\n",
    "df1.loc[df1[\"AgencyCode\"] == 71, \"AgencyCode\"] = \"Idaho\"\n",
    "\n",
    "df1.loc[df1[\"AgencyCode\"] == 16, \"AgencyCode\"] = \"Illinois\"\n",
    "df1.loc[df1[\"AgencyCode\"] == 72, \"AgencyCode\"] = \"Illinois\"\n",
    "\n",
    "df1.loc[df1[\"AgencyCode\"] == 17, \"AgencyCode\"] = \"Indiana\"\n",
    "df1.loc[df1[\"AgencyCode\"] == 73, \"AgencyCode\"] = \"Indiana\"\n",
    "\n",
    "df1.loc[df1[\"AgencyCode\"] == 18, \"AgencyCode\"] = \"Iowa\"\n",
    "df1.loc[df1[\"AgencyCode\"] == 74, \"AgencyCode\"] = \"Iowa\"\n",
    "\n",
    "df1.loc[df1[\"AgencyCode\"] == 19, \"AgencyCode\"] = \"Kansas\"\n",
    "df1.loc[df1[\"AgencyCode\"] == 75, \"AgencyCode\"] = \"Kansas\"\n",
    "\n",
    "df1.loc[df1[\"AgencyCode\"] == 20, \"AgencyCode\"] = \"Kentucky\"\n",
    "df1.loc[df1[\"AgencyCode\"] == 76, \"AgencyCode\"] = \"Kentucky\"\n",
    "\n",
    "df1.loc[df1[\"AgencyCode\"] == 21, \"AgencyCode\"] = \"Louisiana\"\n",
    "df1.loc[df1[\"AgencyCode\"] == 77, \"AgencyCode\"] = \"Louisiana\"\n",
    "\n",
    "df1.loc[df1[\"AgencyCode\"] == 22, \"AgencyCode\"] = \"Maine\"\n",
    "df1.loc[df1[\"AgencyCode\"] == 78, \"AgencyCode\"] = \"Maine\"\n",
    "\n",
    "df1.loc[df1[\"AgencyCode\"] == 23, \"AgencyCode\"] = \"Maryland\"\n",
    "df1.loc[df1[\"AgencyCode\"] == 79, \"AgencyCode\"] = \"Maryland\"\n",
    "\n",
    "df1.loc[df1[\"AgencyCode\"] == 24, \"AgencyCode\"] = \"Massachusetts\"\n",
    "df1.loc[df1[\"AgencyCode\"] == 80, \"AgencyCode\"] = \"Massachusetts\"\n",
    "\n",
    "df1.loc[df1[\"AgencyCode\"] == 25, \"AgencyCode\"] = \"Michigan\"\n",
    "df1.loc[df1[\"AgencyCode\"] == 81, \"AgencyCode\"] = \"Michigan\"\n",
    "\n",
    "df1.loc[df1[\"AgencyCode\"] == 26, \"AgencyCode\"] = \"Minnesota\"\n",
    "df1.loc[df1[\"AgencyCode\"] == 82, \"AgencyCode\"] = \"Minnesota\"\n",
    "\n",
    "df1.loc[df1[\"AgencyCode\"] == 27, \"AgencyCode\"] = \"Mississippi\"\n",
    "df1.loc[df1[\"AgencyCode\"] == 83, \"AgencyCode\"] = \"Mississippi\"\n",
    "\n",
    "df1.loc[df1[\"AgencyCode\"] == 28, \"AgencyCode\"] = \"Missouri\"\n",
    "df1.loc[df1[\"AgencyCode\"] == 84, \"AgencyCode\"] = \"Missouri\"\n",
    "\n",
    "df1.loc[df1[\"AgencyCode\"] == 29, \"AgencyCode\"] = \"Montana\"\n",
    "df1.loc[df1[\"AgencyCode\"] == 85, \"AgencyCode\"] = \"Montana\"\n",
    "\n",
    "df1.loc[df1[\"AgencyCode\"] == 30, \"AgencyCode\"] = \"Nebraska\"\n",
    "df1.loc[df1[\"AgencyCode\"] == 86, \"AgencyCode\"] = \"Nebraska\"\n",
    "\n",
    "df1.loc[df1[\"AgencyCode\"] == 31, \"AgencyCode\"] = \"Nevada\"\n",
    "df1.loc[df1[\"AgencyCode\"] == 87, \"AgencyCode\"] = \"Nevada\"\n",
    "\n",
    "df1.loc[df1[\"AgencyCode\"] == 32, \"AgencyCode\"] = \"New Hampshire\"\n",
    "df1.loc[df1[\"AgencyCode\"] == 88, \"AgencyCode\"] = \"New Hampshire\"\n",
    "\n",
    "df1.loc[df1[\"AgencyCode\"] == 33, \"AgencyCode\"] = \"New Jersey\"\n",
    "df1.loc[df1[\"AgencyCode\"] == 89, \"AgencyCode\"] = \"New Jersey\"\n",
    "\n",
    "df1.loc[df1[\"AgencyCode\"] == 34, \"AgencyCode\"] = \"New Mexico\"\n",
    "df1.loc[df1[\"AgencyCode\"] == 90, \"AgencyCode\"] = \"New Mexico\"\n",
    "\n",
    "df1.loc[df1[\"AgencyCode\"] == 35, \"AgencyCode\"] = \"New York\"\n",
    "df1.loc[df1[\"AgencyCode\"] == 91, \"AgencyCode\"] = \"New York\"\n",
    "\n",
    "df1.loc[df1[\"AgencyCode\"] == 36, \"AgencyCode\"] = \"North Carolina\"\n",
    "df1.loc[df1[\"AgencyCode\"] == 92, \"AgencyCode\"] = \"North Carolina\"\n",
    "\n",
    "df1.loc[df1[\"AgencyCode\"] == 37, \"AgencyCode\"] = \"North Dakota\"\n",
    "df1.loc[df1[\"AgencyCode\"] == 93, \"AgencyCode\"] = \"North Dakota\"\n",
    "\n",
    "df1.loc[df1[\"AgencyCode\"] == 38, \"AgencyCode\"] = \"Northern Marianas\"\n",
    "df1.loc[df1[\"AgencyCode\"] == 94, \"AgencyCode\"] = \"Northern Marianas\"\n",
    "\n",
    "df1.loc[df1[\"AgencyCode\"] == 39, \"AgencyCode\"] = \"Ohio\"\n",
    "df1.loc[df1[\"AgencyCode\"] == 95, \"AgencyCode\"] = \"Ohio\"\n",
    "\n",
    "df1.loc[df1[\"AgencyCode\"] == 40, \"AgencyCode\"] = \"Oklahoma\"\n",
    "df1.loc[df1[\"AgencyCode\"] == 96, \"AgencyCode\"] = \"Oklahoma\"\n",
    "\n",
    "df1.loc[df1[\"AgencyCode\"] == 41, \"AgencyCode\"] = \"Oregon\"\n",
    "df1.loc[df1[\"AgencyCode\"] == 97, \"AgencyCode\"] = \"Oregon\"\n",
    "\n",
    "df1.loc[df1[\"AgencyCode\"] == 42, \"AgencyCode\"] = \"Pennsylvania\"\n",
    "df1.loc[df1[\"AgencyCode\"] == 98, \"AgencyCode\"] = \"Pennsylvania\"\n",
    "\n",
    "df1.loc[df1[\"AgencyCode\"] == 43, \"AgencyCode\"] = \"Puerto Rico\"\n",
    "df1.loc[df1[\"AgencyCode\"] == 99, \"AgencyCode\"] = \"Puerto Rico\"\n",
    "\n",
    "df1.loc[df1[\"AgencyCode\"] == 44, \"AgencyCode\"] = \"Rhode Island\"\n",
    "df1.loc[df1[\"AgencyCode\"] == 100, \"AgencyCode\"] = \"Rhode Island\"\n",
    "\n",
    "df1.loc[df1[\"AgencyCode\"] == 45, \"AgencyCode\"] = \"South Carolina\"\n",
    "df1.loc[df1[\"AgencyCode\"] == 101, \"AgencyCode\"] = \"South Carolina\"\n",
    "\n",
    "df1.loc[df1[\"AgencyCode\"] == 46, \"AgencyCode\"] = \"South Dakota\"\n",
    "df1.loc[df1[\"AgencyCode\"] == 102, \"AgencyCode\"] = \"South Dakota\"\n",
    "\n",
    "df1.loc[df1[\"AgencyCode\"] == 47, \"AgencyCode\"] = \"Tennessee\"\n",
    "df1.loc[df1[\"AgencyCode\"] == 103, \"AgencyCode\"] = \"Tennessee\"\n",
    "\n",
    "df1.loc[df1[\"AgencyCode\"] == 48, \"AgencyCode\"] = \"Texas\"\n",
    "df1.loc[df1[\"AgencyCode\"] == 104, \"AgencyCode\"] = \"Texas\"\n",
    "\n",
    "df1.loc[df1[\"AgencyCode\"] == 49, \"AgencyCode\"] = \"Utah\"\n",
    "df1.loc[df1[\"AgencyCode\"] == 105, \"AgencyCode\"] = \"Utah\"\n",
    "\n",
    "df1.loc[df1[\"AgencyCode\"] == 50, \"AgencyCode\"] = \"Vermont\"\n",
    "df1.loc[df1[\"AgencyCode\"] == 106, \"AgencyCode\"] = \"Vermont\"\n",
    "\n",
    "df1.loc[df1[\"AgencyCode\"] == 51, \"AgencyCode\"] = \"Virginia\"\n",
    "df1.loc[df1[\"AgencyCode\"] == 107, \"AgencyCode\"] = \"Virginia\"\n",
    "\n",
    "df1.loc[df1[\"AgencyCode\"] == 52, \"AgencyCode\"] = \"Virgin Islands\"\n",
    "df1.loc[df1[\"AgencyCode\"] == 108, \"AgencyCode\"] = \"Virgin Islands\"\n",
    "\n",
    "df1.loc[df1[\"AgencyCode\"] == 53, \"AgencyCode\"] = \"Washington\"\n",
    "df1.loc[df1[\"AgencyCode\"] == 109, \"AgencyCode\"] = \"Washington\"\n",
    "\n",
    "df1.loc[df1[\"AgencyCode\"] == 54, \"AgencyCode\"] = \"West Virginia\"\n",
    "df1.loc[df1[\"AgencyCode\"] == 110, \"AgencyCode\"] = \"West Virginia\"\n",
    "\n",
    "df1.loc[df1[\"AgencyCode\"] == 55, \"AgencyCode\"] = \"Wisconsin\"\n",
    "df1.loc[df1[\"AgencyCode\"] == 111, \"AgencyCode\"] = \"Wisconsin\"\n",
    "\n",
    "df1.loc[df1[\"AgencyCode\"] == 56, \"AgencyCode\"] = \"Wyoming\"\n",
    "df1.loc[df1[\"AgencyCode\"] == 112, \"AgencyCode\"] = \"Wyoming\""
   ]
  },
  {
   "cell_type": "code",
   "execution_count": 82,
   "id": "4104117f-3571-4c59-a5f2-10611046eee0",
   "metadata": {},
   "outputs": [
    {
     "data": {
      "text/plain": [
       "New York                30869\n",
       "Texas                   26622\n",
       "California              26194\n",
       "Pennsylvania            20838\n",
       "Florida                 20173\n",
       "North Carolina          16619\n",
       "Ohio                    16112\n",
       "Michigan                14428\n",
       "Illinois                12461\n",
       "Missouri                11328\n",
       "Wisconsin               11038\n",
       "South Carolina          10976\n",
       "Kentucky                 9918\n",
       "Minnesota                9913\n",
       "Georgia                  9282\n",
       "Alabama                  8121\n",
       "New Jersey               7970\n",
       "Virginia                 7787\n",
       "Massachusetts            7472\n",
       "Oregon                   6501\n",
       "Washington               6226\n",
       "Arizona                  6074\n",
       "Mississippi              5870\n",
       "Maryland                 5817\n",
       "Utah                     5582\n",
       "Colorado                 5378\n",
       "Arkansas                 5359\n",
       "Tennessee                5217\n",
       "Indiana                  5112\n",
       "Iowa                     4959\n",
       "Puerto Rico              4535\n",
       "Oklahoma                 4525\n",
       "Louisiana                4046\n",
       "Kansas                   3900\n",
       "Idaho                    3388\n",
       "West Virginia            2877\n",
       "Maine                    2735\n",
       "New Mexico               2649\n",
       "Delaware                 2269\n",
       "Connecticut              2260\n",
       "Vermont                  2176\n",
       "Nebraska                 2039\n",
       "Nevada                   1967\n",
       "South Dakota             1856\n",
       "District of Columbia     1618\n",
       "Montana                  1611\n",
       "North Dakota             1512\n",
       "Wyoming                  1308\n",
       "New Hampshire            1297\n",
       "Rhode Island              912\n",
       "Alaska                    904\n",
       "Hawaii                    380\n",
       "Guam                      163\n",
       "Virgin Islands            111\n",
       "Northern Marianas          59\n",
       "Name: AgencyCode, dtype: int64"
      ]
     },
     "execution_count": 82,
     "metadata": {},
     "output_type": "execute_result"
    }
   ],
   "source": [
    "df1['AgencyCode'].value_counts()"
   ]
  },
  {
   "cell_type": "code",
   "execution_count": 83,
   "id": "cb781ed8-36fd-4b78-90f1-ea11eb208d26",
   "metadata": {},
   "outputs": [],
   "source": [
    "df1.to_csv('final_data.csv')"
   ]
  },
  {
   "cell_type": "code",
   "execution_count": null,
   "id": "f20d0f8f-9e11-4c01-adec-5612c68a0a14",
   "metadata": {},
   "outputs": [],
   "source": []
  }
 ],
 "metadata": {
  "kernelspec": {
   "display_name": "Python 3 (ipykernel)",
   "language": "python",
   "name": "python3"
  },
  "language_info": {
   "codemirror_mode": {
    "name": "ipython",
    "version": 3
   },
   "file_extension": ".py",
   "mimetype": "text/x-python",
   "name": "python",
   "nbconvert_exporter": "python",
   "pygments_lexer": "ipython3",
   "version": "3.9.12"
  }
 },
 "nbformat": 4,
 "nbformat_minor": 5
}
